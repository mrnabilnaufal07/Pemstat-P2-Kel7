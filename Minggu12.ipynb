{
 "cells": [
  {
   "cell_type": "markdown",
   "metadata": {},
   "source": [
    "# Simple Text Analysis\n",
    "This notebook demonstrates basic text analysis steps."
   ]
  },
  {
   "cell_type": "code",
   "execution_count": null,
   "metadata": {},
   "source": [
    "# 1. Import required libraries\n",
    "import pandas as pd\n",
    "import numpy as np\n",
    "import re\n",
    "import nltk\n",
    "from nltk.tokenize import word_tokenize\n",
    "from nltk.corpus import stopwords\n",
    "from nltk.stem import PorterStemmer\n",
    "from collections import Counter\n",
    "import matplotlib.pyplot as plt\n",
    "import seaborn as sns\n",
    "\n",
    "# Download required resources\n",
    "nltk.download('punkt')\n",
    "nltk.download('stopwords')\n",
    "nltk.download('wordnet')"
   ]
  },
  {
   "cell_type": "code",
   "execution_count": null,
   "metadata": {},
   "source": [
    "# 2. Load sample data\n",
    "text_data = [\n",
    "    \"I love this product! It's amazing and works great.\",\n",
    "    \"This product is terrible. Don't buy it.\",\n",
    "    \"Pretty good product, but a bit expensive.\",\n",
    "    \"The customer service was excellent!!\"\n",
    "]\n",
    "df = pd.DataFrame(text_data, columns=['text'])\n",
    "df.head()"
   ]
  },
  {
   "cell_type": "code",
   "execution_count": null,
   "metadata": {},
   "source": [
    "# 3. Text Cleaning\n",
    "def clean_text(text):\n",
    "    # Lowercase\n",
    "    text = text.lower()\n",
    "    \n",
    "    # Remove special characters and numbers\n",
    "    text = re.sub(r'[^a-zA-Z\\s]', '', text)\n",
    "    \n",
    "    # Remove extra whitespace\n",
    "    text = re.sub(r'\\s+', ' ', text).strip()\n",
    "    \n",
    "    return text\n",
    "\n",
    "df['cleaned_text'] = df['text'].apply(clean_text)\n",
    "df[['text', 'cleaned_text']].head()"
   ]
  },
  {
   "cell_type": "code",
   "execution_count": null,
   "metadata": {},
   "source": [
    "# 4. Tokenization\n",
    "df['tokens'] = df['cleaned_text'].apply(word_tokenize)\n",
    "\n",
    "# 5. Remove Stopwords\n",
    "stop_words = set(stopwords.words('english'))\n",
    "\n",
    "def remove_stopwords(tokens):\n",
    "    return [word for word in tokens if word not in stop_words]\n",
    "\n",
    "df['tokens_no_stop'] = df['tokens'].apply(remove_stopwords)\n",
    "\n",
    "# 6. Stemming\n",
    "stemmer = PorterStemmer()\n",
    "\n",
    "def stem_words(tokens):\n",
    "    return [stemmer.stem(word) for word in tokens]\n",
    "\n",
    "df['tokens_stemmed'] = df['tokens_no_stop'].apply(stem_words)\n",
    "df[['text', 'tokens_stemmed']].head()"
   ]
  },
  {
   "cell_type": "code",
   "execution_count": null,
   "metadata": {},
   "source": [
    "# 7. Word Frequency Analysis\n",
    "def get_word_freq(tokens_list):\n",
    "    all_words = [word for tokens in tokens_list for word in tokens]\n",
    "    return Counter(all_words)\n",
    "\n",
    "word_freq = get_word_freq(df['tokens_stemmed'])\n",
    "\n",
    "# Plot top 10 most common words\n",
    "plt.figure(figsize=(10, 6))\n",
    "word_freq_df = pd.DataFrame.from_dict(word_freq, orient='index', columns=['count'])\n",
    "word_freq_df = word_freq_df.sort_values('count', ascending=False).head(10)\n",
    "sns.barplot(x=word_freq_df.index, y='count', data=word_freq_df)\n",
    "plt.xticks(rotation=45)\n",
    "plt.title('Top 10 Most Common Words')\n",
    "plt.tight_layout()\n",
    "plt.show()"
   ]
  },
  {
   "cell_type": "code",
   "execution_count": null,
   "metadata": {},
   "source": [
    "# 8. Simple Sentiment Analysis\n",
    "positive_words = ['love', 'great', 'excellent', 'good', 'amazing']\n",
    "negative_words = ['terrible', 'bad', 'poor', 'horrible']\n",
    "\n",
    "def simple_sentiment(tokens):\n",
    "    tokens = [word.lower() for word in tokens]\n",
    "    positive_count = sum(1 for word in tokens if word in positive_words)\n",
    "    negative_count = sum(1 for word in tokens if word in negative_words)\n",
    "    \n",
    "    if positive_count > negative_count:\n",
    "        return 'positive'\n",
    "    elif negative_count > positive_count:\n",
    "        return 'negative'\n",
    "    else:\n",
    "        return 'neutral'\n",
    "\n",
    "df['sentiment'] = df['tokens'].apply(simple_sentiment)\n",
    "\n",
    "# Display results\n",
    "print(\"\\nSentiment Distribution:\")\n",
    "print(df['sentiment'].value_counts())\n",
    "\n",
    "# Plot sentiment distribution\n",
    "plt.figure(figsize=(8, 6))\n",
    "df['sentiment'].value_counts().plot(kind='bar')\n",
    "plt.title('Sentiment Distribution')\n",
    "plt.xlabel('Sentiment')\n",
    "plt.ylabel('Count')\n",
    "plt.tight_layout()\n",
    "plt.show()"
   ]
  }
 ],
 "metadata": {
  "kernelspec": {
   "display_name": "Python 3",
   "language": "python",
   "name": "python3"
  },
  "language_info": {
   "codemirror_mode": {
    "name": "ipython",
    "version": 3
   },
   "file_extension": ".py",
   "mimetype": "text/x-python",
   "name": "python",
   "nbconvert_exporter": "python",
   "pygments_lexer": "ipython3",
   "version": "3.8.0"
  }
 },
 "nbformat": 4,
 "nbformat_minor": 4
}
